{
 "cells": [
  {
   "cell_type": "code",
   "execution_count": null,
   "metadata": {},
   "outputs": [],
   "source": [
    "import os\n",
    "import sys\n",
    "import tensorflow as tf\n",
    "from tensorflow.keras import layers, models\n",
    "import math\n",
    "import numpy as np\n",
    "from sklearn.metrics import classification_report\n",
    "\n",
    "sys.path.append('./src')\n",
    "\n",
    "from EfficientNet_CBAM_Architecture import EfficientNetB0_custom  \n",
    "\n",
    "# Load model\n",
    "model_e_cbam = EfficientNetB0_custom()\n",
    "model_e_cbam.load_weights('models/efficientnet_b0_new_model.h5')\n",
    "\n",
    "# Load dataset\n",
    "val_ds = tf.keras.preprocessing.image_dataset_from_directory(\n",
    "    'dataset/',\n",
    "    image_size=(224, 224),\n",
    "    batch_size=32,\n",
    "    shuffle=False\n",
    ")\n",
    "\n",
    "# Get class names\n",
    "class_names = val_ds.class_names\n"
   ]
  },
  {
   "cell_type": "code",
   "execution_count": 13,
   "metadata": {
    "execution": {
     "iopub.execute_input": "2025-06-30T07:22:32.551154Z",
     "iopub.status.busy": "2025-06-30T07:22:32.550886Z",
     "iopub.status.idle": "2025-06-30T07:24:05.551026Z",
     "shell.execute_reply": "2025-06-30T07:24:05.550314Z",
     "shell.execute_reply.started": "2025-06-30T07:22:32.551132Z"
    }
   },
   "outputs": [
    {
     "name": "stderr",
     "output_type": "stream",
     "text": [
      "WARNING: All log messages before absl::InitializeLog() is called are written to STDERR\n",
      "I0000 00:00:1751268176.783300     104 service.cc:148] XLA service 0x7f385804b1b0 initialized for platform CUDA (this does not guarantee that XLA will be used). Devices:\n",
      "I0000 00:00:1751268176.784275     104 service.cc:156]   StreamExecutor device (0): Tesla P100-PCIE-16GB, Compute Capability 6.0\n",
      "I0000 00:00:1751268177.446228     104 cuda_dnn.cc:529] Loaded cuDNN version 90300\n",
      "I0000 00:00:1751268182.644619     104 device_compiler.h:188] Compiled cluster using XLA!  This line is logged at most once for the lifetime of the process.\n"
     ]
    },
    {
     "name": "stdout",
     "output_type": "stream",
     "text": [
      "                                                    precision    recall  f1-score   support\n",
      "\n",
      "                                Apple___Apple_scab       0.99      1.00      0.99       504\n",
      "                                 Apple___Black_rot       1.00      1.00      1.00       497\n",
      "                          Apple___Cedar_apple_rust       0.99      0.98      0.99       440\n",
      "                                   Apple___healthy       0.97      1.00      0.98       502\n",
      "                               Blueberry___healthy       1.00      0.98      0.99       454\n",
      "          Cherry_(including_sour)___Powdery_mildew       1.00      0.99      0.99       421\n",
      "                 Cherry_(including_sour)___healthy       1.00      1.00      1.00       456\n",
      "Corn_(maize)___Cercospora_leaf_spot Gray_leaf_spot       0.97      0.96      0.97       410\n",
      "                       Corn_(maize)___Common_rust_       1.00      1.00      1.00       477\n",
      "               Corn_(maize)___Northern_Leaf_Blight       0.97      0.97      0.97       477\n",
      "                            Corn_(maize)___healthy       1.00      1.00      1.00       465\n",
      "                                 Grape___Black_rot       0.99      0.99      0.99       472\n",
      "                      Grape___Esca_(Black_Measles)       1.00      0.99      1.00       480\n",
      "        Grape___Leaf_blight_(Isariopsis_Leaf_Spot)       0.99      1.00      0.99       430\n",
      "                                   Grape___healthy       0.99      1.00      1.00       423\n",
      "          Orange___Haunglongbing_(Citrus_greening)       1.00      0.99      1.00       503\n",
      "                            Peach___Bacterial_spot       0.98      1.00      0.99       459\n",
      "                                   Peach___healthy       1.00      0.99      0.99       432\n",
      "                     Pepper,_bell___Bacterial_spot       1.00      0.99      0.99       478\n",
      "                            Pepper,_bell___healthy       0.98      0.98      0.98       497\n",
      "                             Potato___Early_blight       0.99      1.00      1.00       485\n",
      "                              Potato___Late_blight       0.98      1.00      0.99       485\n",
      "                                  Potato___healthy       1.00      0.99      0.99       456\n",
      "                               Raspberry___healthy       0.99      1.00      0.99       445\n",
      "                                 Soybean___healthy       0.99      0.99      0.99       505\n",
      "                           Squash___Powdery_mildew       1.00      1.00      1.00       434\n",
      "                          Strawberry___Leaf_scorch       0.99      1.00      1.00       444\n",
      "                              Strawberry___healthy       1.00      1.00      1.00       456\n",
      "                           Tomato___Bacterial_spot       0.99      0.99      0.99       425\n",
      "                             Tomato___Early_blight       0.97      0.99      0.98       480\n",
      "                              Tomato___Late_blight       0.99      0.95      0.97       463\n",
      "                                Tomato___Leaf_Mold       1.00      1.00      1.00       470\n",
      "                       Tomato___Septoria_leaf_spot       0.98      0.99      0.98       436\n",
      "     Tomato___Spider_mites Two-spotted_spider_mite       0.99      0.99      0.99       435\n",
      "                              Tomato___Target_Spot       0.99      0.95      0.97       457\n",
      "            Tomato___Tomato_Yellow_Leaf_Curl_Virus       1.00      1.00      1.00       490\n",
      "                      Tomato___Tomato_mosaic_virus       1.00      0.99      0.99       448\n",
      "                                  Tomato___healthy       0.98      0.99      0.99       481\n",
      "\n",
      "                                          accuracy                           0.99     17572\n",
      "                                         macro avg       0.99      0.99      0.99     17572\n",
      "                                      weighted avg       0.99      0.99      0.99     17572\n",
      "\n"
     ]
    }
   ],
   "source": [
    "#classification report\n",
    "true_labels = []\n",
    "for _, labels in val_ds.unbatch():\n",
    "    true_labels.append(tf.argmax(labels).numpy())\n",
    "true_labels = np.array(true_labels)\n",
    "\n",
    "# 2. Get predicted labels\n",
    "pred_labels = []\n",
    "for images, _ in val_ds:\n",
    "    preds = model_e_cbam.predict(images,verbose=0)\n",
    "    pred_classes = np.argmax(preds, axis=1)\n",
    "    pred_labels.extend(pred_classes)\n",
    "pred_labels = np.array(pred_labels)\n",
    "\n",
    "report = classification_report(true_labels, pred_labels, target_names=class_names)\n",
    "print(report)\n",
    "# Save to a text file\n",
    "with open(\"classification_report.txt\", \"w\") as f:\n",
    "    f.write(report)"
   ]
  }
 ],
 "metadata": {
  "kaggle": {
   "accelerator": "gpu",
   "dataSources": [
    {
     "datasetId": 78313,
     "sourceId": 182633,
     "sourceType": "datasetVersion"
    },
    {
     "isSourceIdPinned": true,
     "modelId": 389030,
     "modelInstanceId": 368151,
     "sourceId": 453766,
     "sourceType": "modelInstanceVersion"
    }
   ],
   "dockerImageVersionId": 31041,
   "isGpuEnabled": true,
   "isInternetEnabled": true,
   "language": "python",
   "sourceType": "notebook"
  },
  "kernelspec": {
   "display_name": "Python 3 (ipykernel)",
   "language": "python",
   "name": "python3"
  },
  "language_info": {
   "codemirror_mode": {
    "name": "ipython",
    "version": 3
   },
   "file_extension": ".py",
   "mimetype": "text/x-python",
   "name": "python",
   "nbconvert_exporter": "python",
   "pygments_lexer": "ipython3",
   "version": "3.12.3"
  }
 },
 "nbformat": 4,
 "nbformat_minor": 4
}
